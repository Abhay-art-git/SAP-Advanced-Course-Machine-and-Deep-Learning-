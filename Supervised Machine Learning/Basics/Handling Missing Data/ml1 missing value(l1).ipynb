{
 "cells": [
  {
   "cell_type": "code",
   "execution_count": 64,
   "id": "05cda308-d964-4165-b19d-c35b517b553e",
   "metadata": {},
   "outputs": [],
   "source": [
    "import pandas as pd\n",
    "import seaborn as sns\n",
    "import matplotlib.pyplot as plt\n"
   ]
  },
  {
   "cell_type": "code",
   "execution_count": 65,
   "id": "5b337796-d8c6-4248-ae83-c29362e1e6de",
   "metadata": {},
   "outputs": [],
   "source": [
    "x = pd.read_csv(\"Diabetes Missing Data.csv\")"
   ]
  },
  {
   "cell_type": "code",
   "execution_count": 66,
   "id": "64c8c399-73cf-496a-9bd2-f8cc57602df1",
   "metadata": {},
   "outputs": [
    {
     "data": {
      "text/html": [
       "<div>\n",
       "<style scoped>\n",
       "    .dataframe tbody tr th:only-of-type {\n",
       "        vertical-align: middle;\n",
       "    }\n",
       "\n",
       "    .dataframe tbody tr th {\n",
       "        vertical-align: top;\n",
       "    }\n",
       "\n",
       "    .dataframe thead th {\n",
       "        text-align: right;\n",
       "    }\n",
       "</style>\n",
       "<table border=\"1\" class=\"dataframe\">\n",
       "  <thead>\n",
       "    <tr style=\"text-align: right;\">\n",
       "      <th></th>\n",
       "      <th>Pregnant</th>\n",
       "      <th>Glucose</th>\n",
       "      <th>Diastolic_BP</th>\n",
       "      <th>Skin_Fold</th>\n",
       "      <th>Serum_Insulin</th>\n",
       "      <th>BMI</th>\n",
       "      <th>Diabetes_Pedigree</th>\n",
       "      <th>Age</th>\n",
       "      <th>Class</th>\n",
       "    </tr>\n",
       "  </thead>\n",
       "  <tbody>\n",
       "    <tr>\n",
       "      <th>0</th>\n",
       "      <td>6</td>\n",
       "      <td>148.0</td>\n",
       "      <td>72.0</td>\n",
       "      <td>35.0</td>\n",
       "      <td>NaN</td>\n",
       "      <td>33.6</td>\n",
       "      <td>0.627</td>\n",
       "      <td>50</td>\n",
       "      <td>1</td>\n",
       "    </tr>\n",
       "    <tr>\n",
       "      <th>1</th>\n",
       "      <td>1</td>\n",
       "      <td>85.0</td>\n",
       "      <td>66.0</td>\n",
       "      <td>29.0</td>\n",
       "      <td>NaN</td>\n",
       "      <td>26.6</td>\n",
       "      <td>0.351</td>\n",
       "      <td>31</td>\n",
       "      <td>0</td>\n",
       "    </tr>\n",
       "    <tr>\n",
       "      <th>2</th>\n",
       "      <td>8</td>\n",
       "      <td>183.0</td>\n",
       "      <td>64.0</td>\n",
       "      <td>NaN</td>\n",
       "      <td>NaN</td>\n",
       "      <td>23.3</td>\n",
       "      <td>0.672</td>\n",
       "      <td>32</td>\n",
       "      <td>1</td>\n",
       "    </tr>\n",
       "    <tr>\n",
       "      <th>3</th>\n",
       "      <td>1</td>\n",
       "      <td>89.0</td>\n",
       "      <td>66.0</td>\n",
       "      <td>23.0</td>\n",
       "      <td>94.0</td>\n",
       "      <td>28.1</td>\n",
       "      <td>0.167</td>\n",
       "      <td>21</td>\n",
       "      <td>0</td>\n",
       "    </tr>\n",
       "    <tr>\n",
       "      <th>4</th>\n",
       "      <td>0</td>\n",
       "      <td>137.0</td>\n",
       "      <td>40.0</td>\n",
       "      <td>35.0</td>\n",
       "      <td>168.0</td>\n",
       "      <td>43.1</td>\n",
       "      <td>2.288</td>\n",
       "      <td>33</td>\n",
       "      <td>1</td>\n",
       "    </tr>\n",
       "    <tr>\n",
       "      <th>...</th>\n",
       "      <td>...</td>\n",
       "      <td>...</td>\n",
       "      <td>...</td>\n",
       "      <td>...</td>\n",
       "      <td>...</td>\n",
       "      <td>...</td>\n",
       "      <td>...</td>\n",
       "      <td>...</td>\n",
       "      <td>...</td>\n",
       "    </tr>\n",
       "    <tr>\n",
       "      <th>763</th>\n",
       "      <td>10</td>\n",
       "      <td>101.0</td>\n",
       "      <td>76.0</td>\n",
       "      <td>48.0</td>\n",
       "      <td>180.0</td>\n",
       "      <td>32.9</td>\n",
       "      <td>0.171</td>\n",
       "      <td>63</td>\n",
       "      <td>0</td>\n",
       "    </tr>\n",
       "    <tr>\n",
       "      <th>764</th>\n",
       "      <td>2</td>\n",
       "      <td>122.0</td>\n",
       "      <td>70.0</td>\n",
       "      <td>27.0</td>\n",
       "      <td>NaN</td>\n",
       "      <td>36.8</td>\n",
       "      <td>0.340</td>\n",
       "      <td>27</td>\n",
       "      <td>0</td>\n",
       "    </tr>\n",
       "    <tr>\n",
       "      <th>765</th>\n",
       "      <td>5</td>\n",
       "      <td>121.0</td>\n",
       "      <td>72.0</td>\n",
       "      <td>23.0</td>\n",
       "      <td>112.0</td>\n",
       "      <td>26.2</td>\n",
       "      <td>0.245</td>\n",
       "      <td>30</td>\n",
       "      <td>0</td>\n",
       "    </tr>\n",
       "    <tr>\n",
       "      <th>766</th>\n",
       "      <td>1</td>\n",
       "      <td>126.0</td>\n",
       "      <td>60.0</td>\n",
       "      <td>NaN</td>\n",
       "      <td>NaN</td>\n",
       "      <td>30.1</td>\n",
       "      <td>0.349</td>\n",
       "      <td>47</td>\n",
       "      <td>1</td>\n",
       "    </tr>\n",
       "    <tr>\n",
       "      <th>767</th>\n",
       "      <td>1</td>\n",
       "      <td>93.0</td>\n",
       "      <td>70.0</td>\n",
       "      <td>31.0</td>\n",
       "      <td>NaN</td>\n",
       "      <td>30.4</td>\n",
       "      <td>0.315</td>\n",
       "      <td>23</td>\n",
       "      <td>0</td>\n",
       "    </tr>\n",
       "  </tbody>\n",
       "</table>\n",
       "<p>768 rows × 9 columns</p>\n",
       "</div>"
      ],
      "text/plain": [
       "     Pregnant  Glucose  Diastolic_BP  Skin_Fold  Serum_Insulin   BMI  \\\n",
       "0           6    148.0          72.0       35.0            NaN  33.6   \n",
       "1           1     85.0          66.0       29.0            NaN  26.6   \n",
       "2           8    183.0          64.0        NaN            NaN  23.3   \n",
       "3           1     89.0          66.0       23.0           94.0  28.1   \n",
       "4           0    137.0          40.0       35.0          168.0  43.1   \n",
       "..        ...      ...           ...        ...            ...   ...   \n",
       "763        10    101.0          76.0       48.0          180.0  32.9   \n",
       "764         2    122.0          70.0       27.0            NaN  36.8   \n",
       "765         5    121.0          72.0       23.0          112.0  26.2   \n",
       "766         1    126.0          60.0        NaN            NaN  30.1   \n",
       "767         1     93.0          70.0       31.0            NaN  30.4   \n",
       "\n",
       "     Diabetes_Pedigree  Age  Class  \n",
       "0                0.627   50      1  \n",
       "1                0.351   31      0  \n",
       "2                0.672   32      1  \n",
       "3                0.167   21      0  \n",
       "4                2.288   33      1  \n",
       "..                 ...  ...    ...  \n",
       "763              0.171   63      0  \n",
       "764              0.340   27      0  \n",
       "765              0.245   30      0  \n",
       "766              0.349   47      1  \n",
       "767              0.315   23      0  \n",
       "\n",
       "[768 rows x 9 columns]"
      ]
     },
     "execution_count": 66,
     "metadata": {},
     "output_type": "execute_result"
    }
   ],
   "source": [
    "x"
   ]
  },
  {
   "cell_type": "code",
   "execution_count": 67,
   "id": "c4e580aa-10c8-4ddd-a7ef-c2ff6eb8c4e6",
   "metadata": {},
   "outputs": [
    {
     "data": {
      "text/plain": [
       "(768, 9)"
      ]
     },
     "execution_count": 67,
     "metadata": {},
     "output_type": "execute_result"
    }
   ],
   "source": [
    "x.shape"
   ]
  },
  {
   "cell_type": "code",
   "execution_count": 68,
   "id": "3107f09d-795f-4daa-9916-850244429252",
   "metadata": {},
   "outputs": [
    {
     "data": {
      "text/html": [
       "<div>\n",
       "<style scoped>\n",
       "    .dataframe tbody tr th:only-of-type {\n",
       "        vertical-align: middle;\n",
       "    }\n",
       "\n",
       "    .dataframe tbody tr th {\n",
       "        vertical-align: top;\n",
       "    }\n",
       "\n",
       "    .dataframe thead th {\n",
       "        text-align: right;\n",
       "    }\n",
       "</style>\n",
       "<table border=\"1\" class=\"dataframe\">\n",
       "  <thead>\n",
       "    <tr style=\"text-align: right;\">\n",
       "      <th></th>\n",
       "      <th>Pregnant</th>\n",
       "      <th>Glucose</th>\n",
       "      <th>Diastolic_BP</th>\n",
       "      <th>Skin_Fold</th>\n",
       "      <th>Serum_Insulin</th>\n",
       "      <th>BMI</th>\n",
       "      <th>Diabetes_Pedigree</th>\n",
       "      <th>Age</th>\n",
       "      <th>Class</th>\n",
       "    </tr>\n",
       "  </thead>\n",
       "  <tbody>\n",
       "    <tr>\n",
       "      <th>0</th>\n",
       "      <td>False</td>\n",
       "      <td>False</td>\n",
       "      <td>False</td>\n",
       "      <td>False</td>\n",
       "      <td>True</td>\n",
       "      <td>False</td>\n",
       "      <td>False</td>\n",
       "      <td>False</td>\n",
       "      <td>False</td>\n",
       "    </tr>\n",
       "    <tr>\n",
       "      <th>1</th>\n",
       "      <td>False</td>\n",
       "      <td>False</td>\n",
       "      <td>False</td>\n",
       "      <td>False</td>\n",
       "      <td>True</td>\n",
       "      <td>False</td>\n",
       "      <td>False</td>\n",
       "      <td>False</td>\n",
       "      <td>False</td>\n",
       "    </tr>\n",
       "    <tr>\n",
       "      <th>2</th>\n",
       "      <td>False</td>\n",
       "      <td>False</td>\n",
       "      <td>False</td>\n",
       "      <td>True</td>\n",
       "      <td>True</td>\n",
       "      <td>False</td>\n",
       "      <td>False</td>\n",
       "      <td>False</td>\n",
       "      <td>False</td>\n",
       "    </tr>\n",
       "    <tr>\n",
       "      <th>3</th>\n",
       "      <td>False</td>\n",
       "      <td>False</td>\n",
       "      <td>False</td>\n",
       "      <td>False</td>\n",
       "      <td>False</td>\n",
       "      <td>False</td>\n",
       "      <td>False</td>\n",
       "      <td>False</td>\n",
       "      <td>False</td>\n",
       "    </tr>\n",
       "    <tr>\n",
       "      <th>4</th>\n",
       "      <td>False</td>\n",
       "      <td>False</td>\n",
       "      <td>False</td>\n",
       "      <td>False</td>\n",
       "      <td>False</td>\n",
       "      <td>False</td>\n",
       "      <td>False</td>\n",
       "      <td>False</td>\n",
       "      <td>False</td>\n",
       "    </tr>\n",
       "    <tr>\n",
       "      <th>...</th>\n",
       "      <td>...</td>\n",
       "      <td>...</td>\n",
       "      <td>...</td>\n",
       "      <td>...</td>\n",
       "      <td>...</td>\n",
       "      <td>...</td>\n",
       "      <td>...</td>\n",
       "      <td>...</td>\n",
       "      <td>...</td>\n",
       "    </tr>\n",
       "    <tr>\n",
       "      <th>763</th>\n",
       "      <td>False</td>\n",
       "      <td>False</td>\n",
       "      <td>False</td>\n",
       "      <td>False</td>\n",
       "      <td>False</td>\n",
       "      <td>False</td>\n",
       "      <td>False</td>\n",
       "      <td>False</td>\n",
       "      <td>False</td>\n",
       "    </tr>\n",
       "    <tr>\n",
       "      <th>764</th>\n",
       "      <td>False</td>\n",
       "      <td>False</td>\n",
       "      <td>False</td>\n",
       "      <td>False</td>\n",
       "      <td>True</td>\n",
       "      <td>False</td>\n",
       "      <td>False</td>\n",
       "      <td>False</td>\n",
       "      <td>False</td>\n",
       "    </tr>\n",
       "    <tr>\n",
       "      <th>765</th>\n",
       "      <td>False</td>\n",
       "      <td>False</td>\n",
       "      <td>False</td>\n",
       "      <td>False</td>\n",
       "      <td>False</td>\n",
       "      <td>False</td>\n",
       "      <td>False</td>\n",
       "      <td>False</td>\n",
       "      <td>False</td>\n",
       "    </tr>\n",
       "    <tr>\n",
       "      <th>766</th>\n",
       "      <td>False</td>\n",
       "      <td>False</td>\n",
       "      <td>False</td>\n",
       "      <td>True</td>\n",
       "      <td>True</td>\n",
       "      <td>False</td>\n",
       "      <td>False</td>\n",
       "      <td>False</td>\n",
       "      <td>False</td>\n",
       "    </tr>\n",
       "    <tr>\n",
       "      <th>767</th>\n",
       "      <td>False</td>\n",
       "      <td>False</td>\n",
       "      <td>False</td>\n",
       "      <td>False</td>\n",
       "      <td>True</td>\n",
       "      <td>False</td>\n",
       "      <td>False</td>\n",
       "      <td>False</td>\n",
       "      <td>False</td>\n",
       "    </tr>\n",
       "  </tbody>\n",
       "</table>\n",
       "<p>768 rows × 9 columns</p>\n",
       "</div>"
      ],
      "text/plain": [
       "     Pregnant  Glucose  Diastolic_BP  Skin_Fold  Serum_Insulin    BMI  \\\n",
       "0       False    False         False      False           True  False   \n",
       "1       False    False         False      False           True  False   \n",
       "2       False    False         False       True           True  False   \n",
       "3       False    False         False      False          False  False   \n",
       "4       False    False         False      False          False  False   \n",
       "..        ...      ...           ...        ...            ...    ...   \n",
       "763     False    False         False      False          False  False   \n",
       "764     False    False         False      False           True  False   \n",
       "765     False    False         False      False          False  False   \n",
       "766     False    False         False       True           True  False   \n",
       "767     False    False         False      False           True  False   \n",
       "\n",
       "     Diabetes_Pedigree    Age  Class  \n",
       "0                False  False  False  \n",
       "1                False  False  False  \n",
       "2                False  False  False  \n",
       "3                False  False  False  \n",
       "4                False  False  False  \n",
       "..                 ...    ...    ...  \n",
       "763              False  False  False  \n",
       "764              False  False  False  \n",
       "765              False  False  False  \n",
       "766              False  False  False  \n",
       "767              False  False  False  \n",
       "\n",
       "[768 rows x 9 columns]"
      ]
     },
     "execution_count": 68,
     "metadata": {},
     "output_type": "execute_result"
    }
   ],
   "source": [
    "x.isnull()        #its method for converting null value to true and false (null= true and not null=false)"
   ]
  },
  {
   "cell_type": "code",
   "execution_count": 69,
   "id": "d66cae3d-a207-4a02-b546-fe27959f8cb4",
   "metadata": {},
   "outputs": [
    {
     "data": {
      "text/plain": [
       "Pregnant               0\n",
       "Glucose                5\n",
       "Diastolic_BP          35\n",
       "Skin_Fold            227\n",
       "Serum_Insulin        374\n",
       "BMI                   11\n",
       "Diabetes_Pedigree      0\n",
       "Age                    0\n",
       "Class                  0\n",
       "dtype: int64"
      ]
     },
     "execution_count": 69,
     "metadata": {},
     "output_type": "execute_result"
    }
   ],
   "source": [
    "x.isnull().sum()   # counting the null value numbers"
   ]
  },
  {
   "cell_type": "code",
   "execution_count": 70,
   "id": "920d62d2-a4d4-4181-8416-bdacf88803ad",
   "metadata": {},
   "outputs": [
    {
     "data": {
      "text/plain": [
       "768"
      ]
     },
     "execution_count": 70,
     "metadata": {},
     "output_type": "execute_result"
    }
   ],
   "source": [
    "x.shape[0]              #define the number of total rows"
   ]
  },
  {
   "cell_type": "code",
   "execution_count": 71,
   "id": "ec1c287e-e576-457c-9653-2ca6938be79c",
   "metadata": {},
   "outputs": [
    {
     "data": {
      "text/plain": [
       "9"
      ]
     },
     "execution_count": 71,
     "metadata": {},
     "output_type": "execute_result"
    }
   ],
   "source": [
    "x.shape[1]             #define the number of colomn"
   ]
  },
  {
   "cell_type": "code",
   "execution_count": 72,
   "id": "78770a52-abc5-4e98-8e2f-2a862f35c672",
   "metadata": {},
   "outputs": [
    {
     "data": {
      "text/plain": [
       "652"
      ]
     },
     "execution_count": 72,
     "metadata": {},
     "output_type": "execute_result"
    }
   ],
   "source": [
    "x.isnull().sum().sum()   #total number of null value "
   ]
  },
  {
   "cell_type": "code",
   "execution_count": 73,
   "id": "5e570c1d-b204-4a3e-bdd1-4270a702aecf",
   "metadata": {},
   "outputs": [
    {
     "data": {
      "text/plain": [
       "9.43287037037037"
      ]
     },
     "execution_count": 73,
     "metadata": {},
     "output_type": "execute_result"
    }
   ],
   "source": [
    "((x.isnull().sum().sum())/(x.shape[0]*x.shape[1]))*100         #overall dataset a %null value"
   ]
  },
  {
   "cell_type": "code",
   "execution_count": 74,
   "id": "74ce1fc4-0a58-4c42-a4ba-75ea823f1da9",
   "metadata": {},
   "outputs": [
    {
     "data": {
      "text/plain": [
       "Pregnant              0.000000\n",
       "Glucose               0.651042\n",
       "Diastolic_BP          4.557292\n",
       "Skin_Fold            29.557292\n",
       "Serum_Insulin        48.697917\n",
       "BMI                   1.432292\n",
       "Diabetes_Pedigree     0.000000\n",
       "Age                   0.000000\n",
       "Class                 0.000000\n",
       "dtype: float64"
      ]
     },
     "execution_count": 74,
     "metadata": {},
     "output_type": "execute_result"
    }
   ],
   "source": [
    "x.isnull().sum()/x.shape[0]*100                  #shap[0] is a total number of row define # we are finding %null value"
   ]
  },
  {
   "cell_type": "code",
   "execution_count": 75,
   "id": "2e78c014-b42c-4474-b29d-6edcdab665fa",
   "metadata": {},
   "outputs": [
    {
     "data": {
      "text/plain": [
       "Pregnant             768\n",
       "Glucose              763\n",
       "Diastolic_BP         733\n",
       "Skin_Fold            541\n",
       "Serum_Insulin        394\n",
       "BMI                  757\n",
       "Diabetes_Pedigree    768\n",
       "Age                  768\n",
       "Class                768\n",
       "dtype: int64"
      ]
     },
     "execution_count": 75,
     "metadata": {},
     "output_type": "execute_result"
    }
   ],
   "source": [
    "x.notnull().sum()       #itd define the not null value (data value )"
   ]
  },
  {
   "cell_type": "code",
   "execution_count": 76,
   "id": "872e65ea-a92a-4954-8bb2-b67065c9170b",
   "metadata": {},
   "outputs": [
    {
     "data": {
      "text/plain": [
       "6260"
      ]
     },
     "execution_count": 76,
     "metadata": {},
     "output_type": "execute_result"
    }
   ],
   "source": [
    "x.notnull().sum().sum()   #total number of filled value"
   ]
  },
  {
   "cell_type": "code",
   "execution_count": 95,
   "id": "69c47356-1d91-4f4b-9560-0b6e2d601e18",
   "metadata": {},
   "outputs": [
    {
     "data": {
      "image/png": "[encoded data removed]",
      "text/plain": [
       "<Figure size 640x480 with 2 Axes>"
      ]
     },
     "metadata": {},
     "output_type": "display_data"
    }
   ],
   "source": [
    "sns.heatmap(x.isnull())                 #represent null value graph\n",
    "plt.show()                  #black represent the fill value and white represent null value"
   ]
  },
  {
   "cell_type": "code",
   "execution_count": null,
   "id": "0c091c6c-f313-4cfd-ba84-c7c49fb4edcd",
   "metadata": {},
   "outputs": [],
   "source": []
  }
 ],
 "metadata": {
  "kernelspec": {
   "display_name": "Python 3 (ipykernel)",
   "language": "python",
   "name": "python3"
  },
  "language_info": {
   "codemirror_mode": {
    "name": "ipython",
    "version": 3
   },
   "file_extension": ".py",
   "mimetype": "text/x-python",
   "name": "python",
   "nbconvert_exporter": "python",
   "pygments_lexer": "ipython3",
   "version": "3.12.7"
  }
 },
 "nbformat": 4,
 "nbformat_minor": 5
}
