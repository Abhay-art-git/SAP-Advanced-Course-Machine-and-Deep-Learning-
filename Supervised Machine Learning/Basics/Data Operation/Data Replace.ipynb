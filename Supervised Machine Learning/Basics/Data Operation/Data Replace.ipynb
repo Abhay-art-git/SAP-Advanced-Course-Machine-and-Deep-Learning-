{
 "cells": [
  {
   "cell_type": "code",
   "execution_count": 7,
   "id": "0fcd07fe-d8cb-4289-8eab-68dd7509b76c",
   "metadata": {},
   "outputs": [],
   "source": [
    " import pandas as pd"
   ]
  },
  {
   "cell_type": "code",
   "execution_count": 8,
   "id": "ed4bb1d6-a67a-4ed0-a77c-d6733cf09ae4",
   "metadata": {},
   "outputs": [],
   "source": [
    "x =pd.read_csv(\"Student.csv\")"
   ]
  },
  {
   "cell_type": "code",
   "execution_count": 17,
   "id": "9605ab2a-8cc4-4b73-a91b-45cb769f7105",
   "metadata": {},
   "outputs": [
    {
     "data": {
      "text/html": [
       "<div>\n",
       "<style scoped>\n",
       "    .dataframe tbody tr th:only-of-type {\n",
       "        vertical-align: middle;\n",
       "    }\n",
       "\n",
       "    .dataframe tbody tr th {\n",
       "        vertical-align: top;\n",
       "    }\n",
       "\n",
       "    .dataframe thead th {\n",
       "        text-align: right;\n",
       "    }\n",
       "</style>\n",
       "<table border=\"1\" class=\"dataframe\">\n",
       "  <thead>\n",
       "    <tr style=\"text-align: right;\">\n",
       "      <th></th>\n",
       "      <th>Name</th>\n",
       "      <th>Class</th>\n",
       "      <th>no.</th>\n",
       "      <th>age</th>\n",
       "      <th>gender</th>\n",
       "      <th>weight</th>\n",
       "      <th>Married</th>\n",
       "    </tr>\n",
       "  </thead>\n",
       "  <tbody>\n",
       "    <tr>\n",
       "      <th>0</th>\n",
       "      <td>abhay</td>\n",
       "      <td>11</td>\n",
       "      <td>7329</td>\n",
       "      <td>20</td>\n",
       "      <td>5</td>\n",
       "      <td>145</td>\n",
       "      <td>8</td>\n",
       "    </tr>\n",
       "    <tr>\n",
       "      <th>1</th>\n",
       "      <td>Sumit</td>\n",
       "      <td>12</td>\n",
       "      <td>3674</td>\n",
       "      <td>19</td>\n",
       "      <td>male</td>\n",
       "      <td>156</td>\n",
       "      <td>yes</td>\n",
       "    </tr>\n",
       "    <tr>\n",
       "      <th>2</th>\n",
       "      <td>Raj</td>\n",
       "      <td>11</td>\n",
       "      <td>7895</td>\n",
       "      <td>17</td>\n",
       "      <td>male</td>\n",
       "      <td>145</td>\n",
       "      <td>yes</td>\n",
       "    </tr>\n",
       "    <tr>\n",
       "      <th>3</th>\n",
       "      <td>Ajay</td>\n",
       "      <td>10</td>\n",
       "      <td>6785</td>\n",
       "      <td>16</td>\n",
       "      <td>male</td>\n",
       "      <td>134</td>\n",
       "      <td>no</td>\n",
       "    </tr>\n",
       "    <tr>\n",
       "      <th>4</th>\n",
       "      <td>Anuj</td>\n",
       "      <td>9</td>\n",
       "      <td>8965</td>\n",
       "      <td>20</td>\n",
       "      <td>7</td>\n",
       "      <td>176</td>\n",
       "      <td>23</td>\n",
       "    </tr>\n",
       "    <tr>\n",
       "      <th>5</th>\n",
       "      <td>rina</td>\n",
       "      <td>8</td>\n",
       "      <td>7896</td>\n",
       "      <td>19</td>\n",
       "      <td>female</td>\n",
       "      <td>179</td>\n",
       "      <td>yes</td>\n",
       "    </tr>\n",
       "    <tr>\n",
       "      <th>6</th>\n",
       "      <td>riya</td>\n",
       "      <td>12</td>\n",
       "      <td>6789</td>\n",
       "      <td>18</td>\n",
       "      <td>5</td>\n",
       "      <td>165</td>\n",
       "      <td>no</td>\n",
       "    </tr>\n",
       "    <tr>\n",
       "      <th>7</th>\n",
       "      <td>anju</td>\n",
       "      <td>11</td>\n",
       "      <td>9876</td>\n",
       "      <td>17</td>\n",
       "      <td>female</td>\n",
       "      <td>167</td>\n",
       "      <td>66</td>\n",
       "    </tr>\n",
       "  </tbody>\n",
       "</table>\n",
       "</div>"
      ],
      "text/plain": [
       "    Name  Class    no.  age gender   weight Married\n",
       "0  abhay      11  7329   20       5     145       8\n",
       "1  Sumit      12  3674   19    male     156     yes\n",
       "2    Raj      11  7895   17    male     145     yes\n",
       "3   Ajay      10  6785   16    male     134      no\n",
       "4   Anuj       9  8965   20       7     176      23\n",
       "5   rina       8  7896   19  female     179     yes\n",
       "6   riya      12  6789   18       5     165      no\n",
       "7   anju      11  9876   17  female     167      66"
      ]
     },
     "execution_count": 17,
     "metadata": {},
     "output_type": "execute_result"
    }
   ],
   "source": [
    "x"
   ]
  },
  {
   "cell_type": "code",
   "execution_count": 21,
   "id": "1f8ca63d-4357-41db-a504-bbf6ff32ea65",
   "metadata": {},
   "outputs": [
    {
     "name": "stdout",
     "output_type": "stream",
     "text": [
      "<class 'pandas.core.frame.DataFrame'>\n",
      "RangeIndex: 8 entries, 0 to 7\n",
      "Data columns (total 7 columns):\n",
      " #   Column   Non-Null Count  Dtype \n",
      "---  ------   --------------  ----- \n",
      " 0   Name     8 non-null      object\n",
      " 1   Class    8 non-null      int64 \n",
      " 2   no.      8 non-null      int64 \n",
      " 3   age      8 non-null      int64 \n",
      " 4   gender   8 non-null      object\n",
      " 5   weight   8 non-null      int64 \n",
      " 6   Married  8 non-null      object\n",
      "dtypes: int64(4), object(3)\n",
      "memory usage: 580.0+ bytes\n"
     ]
    }
   ],
   "source": [
    "x.info()"
   ]
  },
  {
   "cell_type": "code",
   "execution_count": 12,
   "id": "047d6fef-daba-405b-9f4b-36bbfb84d98a",
   "metadata": {},
   "outputs": [
    {
     "data": {
      "text/plain": [
       "Name       0\n",
       "Class      0\n",
       "no.        0\n",
       "age        0\n",
       "gender     0\n",
       "weight     0\n",
       "Married    0\n",
       "dtype: int64"
      ]
     },
     "execution_count": 12,
     "metadata": {},
     "output_type": "execute_result"
    }
   ],
   "source": [
    "x.isnull().sum()"
   ]
  },
  {
   "cell_type": "code",
   "execution_count": 20,
   "id": "9f47f10f-1d6d-4d08-92fd-ca7adf5416ec",
   "metadata": {},
   "outputs": [
    {
     "data": {
      "text/plain": [
       "Married\n",
       "yes    4\n",
       "no     2\n",
       "23     1\n",
       "66     1\n",
       "Name: count, dtype: int64"
      ]
     },
     "execution_count": 20,
     "metadata": {},
     "output_type": "execute_result"
    }
   ],
   "source": [
    "x[\"Married\"].value_counts()"
   ]
  },
  {
   "cell_type": "code",
   "execution_count": 18,
   "id": "bf13f23e-ecc2-4a09-b9f1-ffbb62f2a937",
   "metadata": {},
   "outputs": [],
   "source": [
    "x[\"Married\"].replace(\"8\",\"yes\" , inplace = True)"
   ]
  },
  {
   "cell_type": "code",
   "execution_count": 19,
   "id": "fa6ea9bd-e09c-4e20-8853-26b08fa840a4",
   "metadata": {},
   "outputs": [
    {
     "data": {
      "text/html": [
       "<div>\n",
       "<style scoped>\n",
       "    .dataframe tbody tr th:only-of-type {\n",
       "        vertical-align: middle;\n",
       "    }\n",
       "\n",
       "    .dataframe tbody tr th {\n",
       "        vertical-align: top;\n",
       "    }\n",
       "\n",
       "    .dataframe thead th {\n",
       "        text-align: right;\n",
       "    }\n",
       "</style>\n",
       "<table border=\"1\" class=\"dataframe\">\n",
       "  <thead>\n",
       "    <tr style=\"text-align: right;\">\n",
       "      <th></th>\n",
       "      <th>Name</th>\n",
       "      <th>Class</th>\n",
       "      <th>no.</th>\n",
       "      <th>age</th>\n",
       "      <th>gender</th>\n",
       "      <th>weight</th>\n",
       "      <th>Married</th>\n",
       "    </tr>\n",
       "  </thead>\n",
       "  <tbody>\n",
       "    <tr>\n",
       "      <th>0</th>\n",
       "      <td>abhay</td>\n",
       "      <td>11</td>\n",
       "      <td>7329</td>\n",
       "      <td>20</td>\n",
       "      <td>5</td>\n",
       "      <td>145</td>\n",
       "      <td>yes</td>\n",
       "    </tr>\n",
       "    <tr>\n",
       "      <th>1</th>\n",
       "      <td>Sumit</td>\n",
       "      <td>12</td>\n",
       "      <td>3674</td>\n",
       "      <td>19</td>\n",
       "      <td>male</td>\n",
       "      <td>156</td>\n",
       "      <td>yes</td>\n",
       "    </tr>\n",
       "    <tr>\n",
       "      <th>2</th>\n",
       "      <td>Raj</td>\n",
       "      <td>11</td>\n",
       "      <td>7895</td>\n",
       "      <td>17</td>\n",
       "      <td>male</td>\n",
       "      <td>145</td>\n",
       "      <td>yes</td>\n",
       "    </tr>\n",
       "    <tr>\n",
       "      <th>3</th>\n",
       "      <td>Ajay</td>\n",
       "      <td>10</td>\n",
       "      <td>6785</td>\n",
       "      <td>16</td>\n",
       "      <td>male</td>\n",
       "      <td>134</td>\n",
       "      <td>no</td>\n",
       "    </tr>\n",
       "    <tr>\n",
       "      <th>4</th>\n",
       "      <td>Anuj</td>\n",
       "      <td>9</td>\n",
       "      <td>8965</td>\n",
       "      <td>20</td>\n",
       "      <td>7</td>\n",
       "      <td>176</td>\n",
       "      <td>23</td>\n",
       "    </tr>\n",
       "    <tr>\n",
       "      <th>5</th>\n",
       "      <td>rina</td>\n",
       "      <td>8</td>\n",
       "      <td>7896</td>\n",
       "      <td>19</td>\n",
       "      <td>female</td>\n",
       "      <td>179</td>\n",
       "      <td>yes</td>\n",
       "    </tr>\n",
       "    <tr>\n",
       "      <th>6</th>\n",
       "      <td>riya</td>\n",
       "      <td>12</td>\n",
       "      <td>6789</td>\n",
       "      <td>18</td>\n",
       "      <td>5</td>\n",
       "      <td>165</td>\n",
       "      <td>no</td>\n",
       "    </tr>\n",
       "    <tr>\n",
       "      <th>7</th>\n",
       "      <td>anju</td>\n",
       "      <td>11</td>\n",
       "      <td>9876</td>\n",
       "      <td>17</td>\n",
       "      <td>female</td>\n",
       "      <td>167</td>\n",
       "      <td>66</td>\n",
       "    </tr>\n",
       "  </tbody>\n",
       "</table>\n",
       "</div>"
      ],
      "text/plain": [
       "    Name  Class    no.  age gender   weight Married\n",
       "0  abhay      11  7329   20       5     145     yes\n",
       "1  Sumit      12  3674   19    male     156     yes\n",
       "2    Raj      11  7895   17    male     145     yes\n",
       "3   Ajay      10  6785   16    male     134      no\n",
       "4   Anuj       9  8965   20       7     176      23\n",
       "5   rina       8  7896   19  female     179     yes\n",
       "6   riya      12  6789   18       5     165      no\n",
       "7   anju      11  9876   17  female     167      66"
      ]
     },
     "execution_count": 19,
     "metadata": {},
     "output_type": "execute_result"
    }
   ],
   "source": [
    "x"
   ]
  },
  {
   "cell_type": "code",
   "execution_count": null,
   "id": "f37267ad-2724-487f-81f2-841bb9e2551a",
   "metadata": {},
   "outputs": [],
   "source": []
  },
  {
   "cell_type": "code",
   "execution_count": null,
   "id": "378ca3d1-1204-4d58-95a3-8ce5d9c7ac18",
   "metadata": {},
   "outputs": [],
   "source": []
  }
 ],
 "metadata": {
  "kernelspec": {
   "display_name": "Python 3 (ipykernel)",
   "language": "python",
   "name": "python3"
  },
  "language_info": {
   "codemirror_mode": {
    "name": "ipython",
    "version": 3
   },
   "file_extension": ".py",
   "mimetype": "text/x-python",
   "name": "python",
   "nbconvert_exporter": "python",
   "pygments_lexer": "ipython3",
   "version": "3.12.7"
  }
 },
 "nbformat": 4,
 "nbformat_minor": 5
}
