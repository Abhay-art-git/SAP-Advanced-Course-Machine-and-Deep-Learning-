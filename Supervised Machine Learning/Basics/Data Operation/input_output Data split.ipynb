{
 "cells": [
  {
   "cell_type": "code",
   "execution_count": 2,
   "id": "ecba9c1a-f7fb-4279-b2c2-c18f90a86cba",
   "metadata": {},
   "outputs": [],
   "source": [
    "import pandas as pd "
   ]
  },
  {
   "cell_type": "code",
   "execution_count": 3,
   "id": "3d41afb7-eff5-452f-a296-b0fc3a659aed",
   "metadata": {},
   "outputs": [],
   "source": [
    "x = pd.read_csv(\"world bank.csv\")"
   ]
  },
  {
   "cell_type": "code",
   "execution_count": 4,
   "id": "93b562c2-5299-4e45-85cb-9cf7e8e6117c",
   "metadata": {},
   "outputs": [
    {
     "data": {
      "text/html": [
       "<div>\n",
       "<style scoped>\n",
       "    .dataframe tbody tr th:only-of-type {\n",
       "        vertical-align: middle;\n",
       "    }\n",
       "\n",
       "    .dataframe tbody tr th {\n",
       "        vertical-align: top;\n",
       "    }\n",
       "\n",
       "    .dataframe thead th {\n",
       "        text-align: right;\n",
       "    }\n",
       "</style>\n",
       "<table border=\"1\" class=\"dataframe\">\n",
       "  <thead>\n",
       "    <tr style=\"text-align: right;\">\n",
       "      <th></th>\n",
       "      <th>Country Name</th>\n",
       "      <th>Country Code</th>\n",
       "      <th>Region</th>\n",
       "      <th>IncomeGroup</th>\n",
       "      <th>Year</th>\n",
       "      <th>Birth rate, crude (per 1,000 people)</th>\n",
       "      <th>Death rate, crude (per 1,000 people)</th>\n",
       "      <th>Electric power consumption (kWh per capita)</th>\n",
       "      <th>GDP (USD)</th>\n",
       "      <th>GDP per capita (USD)</th>\n",
       "      <th>Individuals using the Internet (% of population)</th>\n",
       "      <th>Infant mortality rate (per 1,000 live births)</th>\n",
       "      <th>Life expectancy at birth (years)</th>\n",
       "      <th>Population density (people per sq. km of land area)</th>\n",
       "      <th>Unemployment (% of total labor force) (modeled ILO estimate)</th>\n",
       "    </tr>\n",
       "  </thead>\n",
       "  <tbody>\n",
       "    <tr>\n",
       "      <th>0</th>\n",
       "      <td>Afghanistan</td>\n",
       "      <td>AFG</td>\n",
       "      <td>South Asia</td>\n",
       "      <td>Low income</td>\n",
       "      <td>2018</td>\n",
       "      <td>NaN</td>\n",
       "      <td>NaN</td>\n",
       "      <td>NaN</td>\n",
       "      <td>1.936300e+10</td>\n",
       "      <td>520.897</td>\n",
       "      <td>NaN</td>\n",
       "      <td>47.9</td>\n",
       "      <td>NaN</td>\n",
       "      <td>56.9378</td>\n",
       "      <td>1.542</td>\n",
       "    </tr>\n",
       "    <tr>\n",
       "      <th>1</th>\n",
       "      <td>Afghanistan</td>\n",
       "      <td>AFG</td>\n",
       "      <td>South Asia</td>\n",
       "      <td>Low income</td>\n",
       "      <td>2017</td>\n",
       "      <td>33.211</td>\n",
       "      <td>6.575</td>\n",
       "      <td>NaN</td>\n",
       "      <td>2.019180e+10</td>\n",
       "      <td>556.302</td>\n",
       "      <td>13.50000</td>\n",
       "      <td>49.5</td>\n",
       "      <td>64.130</td>\n",
       "      <td>55.5960</td>\n",
       "      <td>1.559</td>\n",
       "    </tr>\n",
       "    <tr>\n",
       "      <th>2</th>\n",
       "      <td>Afghanistan</td>\n",
       "      <td>AFG</td>\n",
       "      <td>South Asia</td>\n",
       "      <td>Low income</td>\n",
       "      <td>2016</td>\n",
       "      <td>33.981</td>\n",
       "      <td>6.742</td>\n",
       "      <td>NaN</td>\n",
       "      <td>1.936260e+10</td>\n",
       "      <td>547.228</td>\n",
       "      <td>11.20000</td>\n",
       "      <td>51.2</td>\n",
       "      <td>63.763</td>\n",
       "      <td>54.1971</td>\n",
       "      <td>1.634</td>\n",
       "    </tr>\n",
       "    <tr>\n",
       "      <th>3</th>\n",
       "      <td>Afghanistan</td>\n",
       "      <td>AFG</td>\n",
       "      <td>South Asia</td>\n",
       "      <td>Low income</td>\n",
       "      <td>2015</td>\n",
       "      <td>34.809</td>\n",
       "      <td>6.929</td>\n",
       "      <td>NaN</td>\n",
       "      <td>1.990710e+10</td>\n",
       "      <td>578.466</td>\n",
       "      <td>8.26000</td>\n",
       "      <td>53.1</td>\n",
       "      <td>63.377</td>\n",
       "      <td>52.7121</td>\n",
       "      <td>1.679</td>\n",
       "    </tr>\n",
       "    <tr>\n",
       "      <th>4</th>\n",
       "      <td>Afghanistan</td>\n",
       "      <td>AFG</td>\n",
       "      <td>South Asia</td>\n",
       "      <td>Low income</td>\n",
       "      <td>2014</td>\n",
       "      <td>35.706</td>\n",
       "      <td>7.141</td>\n",
       "      <td>NaN</td>\n",
       "      <td>2.048490e+10</td>\n",
       "      <td>613.856</td>\n",
       "      <td>7.00000</td>\n",
       "      <td>55.1</td>\n",
       "      <td>62.966</td>\n",
       "      <td>51.1148</td>\n",
       "      <td>1.735</td>\n",
       "    </tr>\n",
       "    <tr>\n",
       "      <th>5</th>\n",
       "      <td>Afghanistan</td>\n",
       "      <td>AFG</td>\n",
       "      <td>South Asia</td>\n",
       "      <td>Low income</td>\n",
       "      <td>2013</td>\n",
       "      <td>36.670</td>\n",
       "      <td>7.380</td>\n",
       "      <td>NaN</td>\n",
       "      <td>2.056110e+10</td>\n",
       "      <td>637.165</td>\n",
       "      <td>5.90000</td>\n",
       "      <td>57.3</td>\n",
       "      <td>62.525</td>\n",
       "      <td>49.4280</td>\n",
       "      <td>1.725</td>\n",
       "    </tr>\n",
       "    <tr>\n",
       "      <th>6</th>\n",
       "      <td>Afghanistan</td>\n",
       "      <td>AFG</td>\n",
       "      <td>South Asia</td>\n",
       "      <td>Low income</td>\n",
       "      <td>2012</td>\n",
       "      <td>37.690</td>\n",
       "      <td>7.645</td>\n",
       "      <td>NaN</td>\n",
       "      <td>2.000160e+10</td>\n",
       "      <td>641.872</td>\n",
       "      <td>5.45455</td>\n",
       "      <td>59.5</td>\n",
       "      <td>62.054</td>\n",
       "      <td>47.7306</td>\n",
       "      <td>1.692</td>\n",
       "    </tr>\n",
       "  </tbody>\n",
       "</table>\n",
       "</div>"
      ],
      "text/plain": [
       "  Country Name Country Code      Region IncomeGroup  Year  \\\n",
       "0  Afghanistan          AFG  South Asia  Low income  2018   \n",
       "1  Afghanistan          AFG  South Asia  Low income  2017   \n",
       "2  Afghanistan          AFG  South Asia  Low income  2016   \n",
       "3  Afghanistan          AFG  South Asia  Low income  2015   \n",
       "4  Afghanistan          AFG  South Asia  Low income  2014   \n",
       "5  Afghanistan          AFG  South Asia  Low income  2013   \n",
       "6  Afghanistan          AFG  South Asia  Low income  2012   \n",
       "\n",
       "   Birth rate, crude (per 1,000 people)  Death rate, crude (per 1,000 people)  \\\n",
       "0                                   NaN                                   NaN   \n",
       "1                                33.211                                 6.575   \n",
       "2                                33.981                                 6.742   \n",
       "3                                34.809                                 6.929   \n",
       "4                                35.706                                 7.141   \n",
       "5                                36.670                                 7.380   \n",
       "6                                37.690                                 7.645   \n",
       "\n",
       "   Electric power consumption (kWh per capita)     GDP (USD)  \\\n",
       "0                                          NaN  1.936300e+10   \n",
       "1                                          NaN  2.019180e+10   \n",
       "2                                          NaN  1.936260e+10   \n",
       "3                                          NaN  1.990710e+10   \n",
       "4                                          NaN  2.048490e+10   \n",
       "5                                          NaN  2.056110e+10   \n",
       "6                                          NaN  2.000160e+10   \n",
       "\n",
       "   GDP per capita (USD)  Individuals using the Internet (% of population)  \\\n",
       "0               520.897                                               NaN   \n",
       "1               556.302                                          13.50000   \n",
       "2               547.228                                          11.20000   \n",
       "3               578.466                                           8.26000   \n",
       "4               613.856                                           7.00000   \n",
       "5               637.165                                           5.90000   \n",
       "6               641.872                                           5.45455   \n",
       "\n",
       "   Infant mortality rate (per 1,000 live births)  \\\n",
       "0                                           47.9   \n",
       "1                                           49.5   \n",
       "2                                           51.2   \n",
       "3                                           53.1   \n",
       "4                                           55.1   \n",
       "5                                           57.3   \n",
       "6                                           59.5   \n",
       "\n",
       "   Life expectancy at birth (years)  \\\n",
       "0                               NaN   \n",
       "1                            64.130   \n",
       "2                            63.763   \n",
       "3                            63.377   \n",
       "4                            62.966   \n",
       "5                            62.525   \n",
       "6                            62.054   \n",
       "\n",
       "   Population density (people per sq. km of land area)  \\\n",
       "0                                            56.9378     \n",
       "1                                            55.5960     \n",
       "2                                            54.1971     \n",
       "3                                            52.7121     \n",
       "4                                            51.1148     \n",
       "5                                            49.4280     \n",
       "6                                            47.7306     \n",
       "\n",
       "   Unemployment (% of total labor force) (modeled ILO estimate)  \n",
       "0                                              1.542             \n",
       "1                                              1.559             \n",
       "2                                              1.634             \n",
       "3                                              1.679             \n",
       "4                                              1.735             \n",
       "5                                              1.725             \n",
       "6                                              1.692             "
      ]
     },
     "execution_count": 4,
     "metadata": {},
     "output_type": "execute_result"
    }
   ],
   "source": [
    "x.head(7)"
   ]
  },
  {
   "cell_type": "code",
   "execution_count": 18,
   "id": "191482bc-ab65-4d8d-b519-cf6e092bc88a",
   "metadata": {},
   "outputs": [
    {
     "data": {
      "text/plain": [
       "(12449, 15)"
      ]
     },
     "execution_count": 18,
     "metadata": {},
     "output_type": "execute_result"
    }
   ],
   "source": [
    "x.shape"
   ]
  },
  {
   "cell_type": "code",
   "execution_count": 5,
   "id": "90f245f5-14e6-4580-9ae0-e3f250f5729d",
   "metadata": {},
   "outputs": [],
   "source": [
    "input_data = x.iloc[:,:-1]"
   ]
  },
  {
   "cell_type": "code",
   "execution_count": 8,
   "id": "816f24ef-f62c-4f21-a5da-9dc02625dd24",
   "metadata": {},
   "outputs": [],
   "source": [
    "output_data = x[\"Unemployment (% of total labor force) (modeled ILO estimate)\"]"
   ]
  },
  {
   "cell_type": "code",
   "execution_count": 11,
   "id": "d17944da-0ddb-480f-aabc-b8061469fea4",
   "metadata": {},
   "outputs": [],
   "source": [
    "from sklearn.model_selection import train_test_split"
   ]
  },
  {
   "cell_type": "code",
   "execution_count": 12,
   "id": "e1ffc92f-52f6-41c3-b735-a3a1df0aa9bb",
   "metadata": {},
   "outputs": [],
   "source": [
    "x_train , x_test , y_train , y_test = train_test_split(input_data , output_data , test_size=0.25)"
   ]
  },
  {
   "cell_type": "code",
   "execution_count": 20,
   "id": "2b672f71-1334-4bf2-841e-ff41a6e7f024",
   "metadata": {},
   "outputs": [
    {
     "data": {
      "text/plain": [
       "(9336, 14)"
      ]
     },
     "execution_count": 20,
     "metadata": {},
     "output_type": "execute_result"
    }
   ],
   "source": [
    "x_train.shape"
   ]
  },
  {
   "cell_type": "code",
   "execution_count": 21,
   "id": "baeee350-9641-4cd2-9e86-a19b3108b84d",
   "metadata": {},
   "outputs": [
    {
     "data": {
      "text/plain": [
       "(3113, 14)"
      ]
     },
     "execution_count": 21,
     "metadata": {},
     "output_type": "execute_result"
    }
   ],
   "source": [
    "x_test.shape"
   ]
  },
  {
   "cell_type": "code",
   "execution_count": 22,
   "id": "57a84b5e-c166-435f-a20a-209998dea213",
   "metadata": {},
   "outputs": [
    {
     "data": {
      "text/plain": [
       "(3113,)"
      ]
     },
     "execution_count": 22,
     "metadata": {},
     "output_type": "execute_result"
    }
   ],
   "source": [
    "y_test.shape"
   ]
  },
  {
   "cell_type": "code",
   "execution_count": 24,
   "id": "eca5924c-515f-4999-ae0c-65ec3fb9d0f8",
   "metadata": {},
   "outputs": [
    {
     "data": {
      "text/plain": [
       "(9336,)"
      ]
     },
     "execution_count": 24,
     "metadata": {},
     "output_type": "execute_result"
    }
   ],
   "source": [
    "y_train.shape"
   ]
  },
  {
   "cell_type": "code",
   "execution_count": null,
   "id": "f6397485-afe6-485f-ac9a-7d447b41d253",
   "metadata": {},
   "outputs": [],
   "source": []
  }
 ],
 "metadata": {
  "kernelspec": {
   "display_name": "Python 3 (ipykernel)",
   "language": "python",
   "name": "python3"
  },
  "language_info": {
   "codemirror_mode": {
    "name": "ipython",
    "version": 3
   },
   "file_extension": ".py",
   "mimetype": "text/x-python",
   "name": "python",
   "nbconvert_exporter": "python",
   "pygments_lexer": "ipython3",
   "version": "3.12.7"
  }
 },
 "nbformat": 4,
 "nbformat_minor": 5
}
